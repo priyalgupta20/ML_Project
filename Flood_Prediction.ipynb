{
 "cells": [
  {
   "cell_type": "code",
   "execution_count": 1054,
   "id": "e2ee4ad5-fb7e-4ee2-8f04-50ef41a8c266",
   "metadata": {},
   "outputs": [],
   "source": [
    "\n",
    "# IMPORTING LIBRARIES\n",
    "\n",
    "import pandas as pd\n",
    "import matplotlib.pyplot as plt\n",
    "import seaborn as sns\n",
    "from sklearn.preprocessing import LabelEncoder\n",
    "from sklearn.preprocessing import StandardScaler\n",
    "from sklearn.decomposition import PCA\n",
    "from sklearn.model_selection import train_test_split\n",
    "from sklearn.metrics import confusion_matrix\n",
    "\n",
    "#Models\n",
    "from sklearn.linear_model import LogisticRegression\n",
    "from sklearn.ensemble import RandomForestClassifier\n",
    "from sklearn.svm import SVC\n",
    "from sklearn.ensemble import GradientBoostingClassifier\n"
   ]
  },
  {
   "cell_type": "code",
   "execution_count": 890,
   "id": "d0fb8b3a-8fa1-493e-8932-6ce53e5a96fa",
   "metadata": {},
   "outputs": [
    {
     "data": {
      "text/html": [
       "<div>\n",
       "<style scoped>\n",
       "    .dataframe tbody tr th:only-of-type {\n",
       "        vertical-align: middle;\n",
       "    }\n",
       "\n",
       "    .dataframe tbody tr th {\n",
       "        vertical-align: top;\n",
       "    }\n",
       "\n",
       "    .dataframe thead th {\n",
       "        text-align: right;\n",
       "    }\n",
       "</style>\n",
       "<table border=\"1\" class=\"dataframe\">\n",
       "  <thead>\n",
       "    <tr style=\"text-align: right;\">\n",
       "      <th></th>\n",
       "      <th>Latitude</th>\n",
       "      <th>Longitude</th>\n",
       "      <th>Rainfall (mm)</th>\n",
       "      <th>Temperature (°C)</th>\n",
       "      <th>Humidity (%)</th>\n",
       "      <th>River Discharge (m³/s)</th>\n",
       "      <th>Water Level (m)</th>\n",
       "      <th>Elevation (m)</th>\n",
       "      <th>Land Cover</th>\n",
       "      <th>Soil Type</th>\n",
       "      <th>Population Density</th>\n",
       "      <th>Infrastructure</th>\n",
       "      <th>Historical Floods</th>\n",
       "      <th>Flood Occurred</th>\n",
       "    </tr>\n",
       "  </thead>\n",
       "  <tbody>\n",
       "    <tr>\n",
       "      <th>0</th>\n",
       "      <td>18.861663</td>\n",
       "      <td>78.835584</td>\n",
       "      <td>218.999493</td>\n",
       "      <td>34.144337</td>\n",
       "      <td>43.912963</td>\n",
       "      <td>4236.182888</td>\n",
       "      <td>7.415552</td>\n",
       "      <td>377.465433</td>\n",
       "      <td>Water Body</td>\n",
       "      <td>Clay</td>\n",
       "      <td>7276.742184</td>\n",
       "      <td>1</td>\n",
       "      <td>0</td>\n",
       "      <td>1</td>\n",
       "    </tr>\n",
       "    <tr>\n",
       "      <th>1</th>\n",
       "      <td>35.570715</td>\n",
       "      <td>77.654451</td>\n",
       "      <td>55.353599</td>\n",
       "      <td>28.778774</td>\n",
       "      <td>27.585422</td>\n",
       "      <td>2472.585219</td>\n",
       "      <td>8.811019</td>\n",
       "      <td>7330.608875</td>\n",
       "      <td>Forest</td>\n",
       "      <td>Peat</td>\n",
       "      <td>6897.736956</td>\n",
       "      <td>0</td>\n",
       "      <td>1</td>\n",
       "      <td>0</td>\n",
       "    </tr>\n",
       "    <tr>\n",
       "      <th>2</th>\n",
       "      <td>29.227824</td>\n",
       "      <td>73.108463</td>\n",
       "      <td>103.991908</td>\n",
       "      <td>43.934956</td>\n",
       "      <td>30.108738</td>\n",
       "      <td>977.328053</td>\n",
       "      <td>4.631799</td>\n",
       "      <td>2205.873488</td>\n",
       "      <td>Agricultural</td>\n",
       "      <td>Loam</td>\n",
       "      <td>4361.518494</td>\n",
       "      <td>1</td>\n",
       "      <td>1</td>\n",
       "      <td>1</td>\n",
       "    </tr>\n",
       "    <tr>\n",
       "      <th>3</th>\n",
       "      <td>25.361096</td>\n",
       "      <td>85.610733</td>\n",
       "      <td>198.984191</td>\n",
       "      <td>21.569354</td>\n",
       "      <td>34.453690</td>\n",
       "      <td>3683.208933</td>\n",
       "      <td>2.891787</td>\n",
       "      <td>2512.277800</td>\n",
       "      <td>Desert</td>\n",
       "      <td>Sandy</td>\n",
       "      <td>6163.069701</td>\n",
       "      <td>1</td>\n",
       "      <td>1</td>\n",
       "      <td>0</td>\n",
       "    </tr>\n",
       "    <tr>\n",
       "      <th>4</th>\n",
       "      <td>12.524541</td>\n",
       "      <td>81.822101</td>\n",
       "      <td>144.626803</td>\n",
       "      <td>32.635692</td>\n",
       "      <td>36.292267</td>\n",
       "      <td>2093.390678</td>\n",
       "      <td>3.188466</td>\n",
       "      <td>2001.818223</td>\n",
       "      <td>Agricultural</td>\n",
       "      <td>Loam</td>\n",
       "      <td>6167.964591</td>\n",
       "      <td>1</td>\n",
       "      <td>0</td>\n",
       "      <td>0</td>\n",
       "    </tr>\n",
       "  </tbody>\n",
       "</table>\n",
       "</div>"
      ],
      "text/plain": [
       "    Latitude  Longitude  Rainfall (mm)  Temperature (°C)  Humidity (%)  \\\n",
       "0  18.861663  78.835584     218.999493         34.144337     43.912963   \n",
       "1  35.570715  77.654451      55.353599         28.778774     27.585422   \n",
       "2  29.227824  73.108463     103.991908         43.934956     30.108738   \n",
       "3  25.361096  85.610733     198.984191         21.569354     34.453690   \n",
       "4  12.524541  81.822101     144.626803         32.635692     36.292267   \n",
       "\n",
       "   River Discharge (m³/s)  Water Level (m)  Elevation (m)    Land Cover  \\\n",
       "0             4236.182888         7.415552     377.465433    Water Body   \n",
       "1             2472.585219         8.811019    7330.608875        Forest   \n",
       "2              977.328053         4.631799    2205.873488  Agricultural   \n",
       "3             3683.208933         2.891787    2512.277800        Desert   \n",
       "4             2093.390678         3.188466    2001.818223  Agricultural   \n",
       "\n",
       "  Soil Type  Population Density  Infrastructure  Historical Floods  \\\n",
       "0      Clay         7276.742184               1                  0   \n",
       "1      Peat         6897.736956               0                  1   \n",
       "2      Loam         4361.518494               1                  1   \n",
       "3     Sandy         6163.069701               1                  1   \n",
       "4      Loam         6167.964591               1                  0   \n",
       "\n",
       "   Flood Occurred  \n",
       "0               1  \n",
       "1               0  \n",
       "2               1  \n",
       "3               0  \n",
       "4               0  "
      ]
     },
     "execution_count": 890,
     "metadata": {},
     "output_type": "execute_result"
    }
   ],
   "source": [
    "\n",
    "# IMPORTING DATASET\n",
    "\n",
    "df=pd.read_csv(r\"D:\\Priyal\\From College\\CODING\\Python ML Project\\flood_risk_dataset_india.csv\")\n",
    "df.head()"
   ]
  },
  {
   "cell_type": "code",
   "execution_count": 891,
   "id": "192d569c-4f28-4828-8bb1-bc4b4f6135d5",
   "metadata": {},
   "outputs": [],
   "source": [
    "\n",
    "# EXPLORATORY DATA ANALYSIS\n"
   ]
  },
  {
   "cell_type": "code",
   "execution_count": 892,
   "id": "a7ca7ba1-0441-45bb-9d4c-f4d3df4cfc05",
   "metadata": {},
   "outputs": [
    {
     "data": {
      "text/plain": [
       "Latitude                  0\n",
       "Longitude                 0\n",
       "Rainfall (mm)             0\n",
       "Temperature (°C)          0\n",
       "Humidity (%)              0\n",
       "River Discharge (m³/s)    0\n",
       "Water Level (m)           0\n",
       "Elevation (m)             0\n",
       "Land Cover                0\n",
       "Soil Type                 0\n",
       "Population Density        0\n",
       "Infrastructure            0\n",
       "Historical Floods         0\n",
       "Flood Occurred            0\n",
       "dtype: int64"
      ]
     },
     "execution_count": 892,
     "metadata": {},
     "output_type": "execute_result"
    }
   ],
   "source": [
    "#checking for null values\n",
    "df.isnull().sum()"
   ]
  },
  {
   "cell_type": "code",
   "execution_count": 893,
   "id": "59d93c3a-e65d-4b93-a23f-876518b51937",
   "metadata": {},
   "outputs": [
    {
     "name": "stdout",
     "output_type": "stream",
     "text": [
      "<class 'pandas.core.frame.DataFrame'>\n",
      "RangeIndex: 10000 entries, 0 to 9999\n",
      "Data columns (total 14 columns):\n",
      " #   Column                  Non-Null Count  Dtype  \n",
      "---  ------                  --------------  -----  \n",
      " 0   Latitude                10000 non-null  float64\n",
      " 1   Longitude               10000 non-null  float64\n",
      " 2   Rainfall (mm)           10000 non-null  float64\n",
      " 3   Temperature (°C)        10000 non-null  float64\n",
      " 4   Humidity (%)            10000 non-null  float64\n",
      " 5   River Discharge (m³/s)  10000 non-null  float64\n",
      " 6   Water Level (m)         10000 non-null  float64\n",
      " 7   Elevation (m)           10000 non-null  float64\n",
      " 8   Land Cover              10000 non-null  object \n",
      " 9   Soil Type               10000 non-null  object \n",
      " 10  Population Density      10000 non-null  float64\n",
      " 11  Infrastructure          10000 non-null  int64  \n",
      " 12  Historical Floods       10000 non-null  int64  \n",
      " 13  Flood Occurred          10000 non-null  int64  \n",
      "dtypes: float64(9), int64(3), object(2)\n",
      "memory usage: 1.1+ MB\n"
     ]
    }
   ],
   "source": [
    "df.info()"
   ]
  },
  {
   "cell_type": "code",
   "execution_count": 894,
   "id": "62e34c2d-b0e5-4e40-a9da-22514ffcfd23",
   "metadata": {},
   "outputs": [
    {
     "data": {
      "text/html": [
       "<div>\n",
       "<style scoped>\n",
       "    .dataframe tbody tr th:only-of-type {\n",
       "        vertical-align: middle;\n",
       "    }\n",
       "\n",
       "    .dataframe tbody tr th {\n",
       "        vertical-align: top;\n",
       "    }\n",
       "\n",
       "    .dataframe thead th {\n",
       "        text-align: right;\n",
       "    }\n",
       "</style>\n",
       "<table border=\"1\" class=\"dataframe\">\n",
       "  <thead>\n",
       "    <tr style=\"text-align: right;\">\n",
       "      <th></th>\n",
       "      <th>Latitude</th>\n",
       "      <th>Longitude</th>\n",
       "      <th>Rainfall (mm)</th>\n",
       "      <th>Temperature (°C)</th>\n",
       "      <th>Humidity (%)</th>\n",
       "      <th>River Discharge (m³/s)</th>\n",
       "      <th>Water Level (m)</th>\n",
       "      <th>Elevation (m)</th>\n",
       "      <th>Population Density</th>\n",
       "      <th>Infrastructure</th>\n",
       "      <th>Historical Floods</th>\n",
       "      <th>Flood Occurred</th>\n",
       "    </tr>\n",
       "  </thead>\n",
       "  <tbody>\n",
       "    <tr>\n",
       "      <th>count</th>\n",
       "      <td>10000.000000</td>\n",
       "      <td>10000.000000</td>\n",
       "      <td>10000.000000</td>\n",
       "      <td>10000.000000</td>\n",
       "      <td>10000.000000</td>\n",
       "      <td>10000.000000</td>\n",
       "      <td>10000.000000</td>\n",
       "      <td>10000.000000</td>\n",
       "      <td>10000.000000</td>\n",
       "      <td>10000.000000</td>\n",
       "      <td>10000.000000</td>\n",
       "      <td>10000.000000</td>\n",
       "    </tr>\n",
       "    <tr>\n",
       "      <th>mean</th>\n",
       "      <td>22.330627</td>\n",
       "      <td>82.631366</td>\n",
       "      <td>150.015118</td>\n",
       "      <td>29.961401</td>\n",
       "      <td>59.749104</td>\n",
       "      <td>2515.722946</td>\n",
       "      <td>5.017881</td>\n",
       "      <td>4417.138177</td>\n",
       "      <td>5021.468442</td>\n",
       "      <td>0.502000</td>\n",
       "      <td>0.498700</td>\n",
       "      <td>0.505700</td>\n",
       "    </tr>\n",
       "    <tr>\n",
       "      <th>std</th>\n",
       "      <td>8.341274</td>\n",
       "      <td>8.389542</td>\n",
       "      <td>86.032127</td>\n",
       "      <td>8.669838</td>\n",
       "      <td>23.142734</td>\n",
       "      <td>1441.706442</td>\n",
       "      <td>2.876579</td>\n",
       "      <td>2530.245421</td>\n",
       "      <td>2882.591520</td>\n",
       "      <td>0.500021</td>\n",
       "      <td>0.500023</td>\n",
       "      <td>0.499993</td>\n",
       "    </tr>\n",
       "    <tr>\n",
       "      <th>min</th>\n",
       "      <td>8.000337</td>\n",
       "      <td>68.004575</td>\n",
       "      <td>0.014437</td>\n",
       "      <td>15.000166</td>\n",
       "      <td>20.001339</td>\n",
       "      <td>0.042161</td>\n",
       "      <td>0.002701</td>\n",
       "      <td>1.150340</td>\n",
       "      <td>2.289000</td>\n",
       "      <td>0.000000</td>\n",
       "      <td>0.000000</td>\n",
       "      <td>0.000000</td>\n",
       "    </tr>\n",
       "    <tr>\n",
       "      <th>25%</th>\n",
       "      <td>15.143537</td>\n",
       "      <td>75.364428</td>\n",
       "      <td>76.124373</td>\n",
       "      <td>22.405717</td>\n",
       "      <td>39.541778</td>\n",
       "      <td>1284.782376</td>\n",
       "      <td>2.538847</td>\n",
       "      <td>2229.681903</td>\n",
       "      <td>2491.766601</td>\n",
       "      <td>0.000000</td>\n",
       "      <td>0.000000</td>\n",
       "      <td>0.000000</td>\n",
       "    </tr>\n",
       "    <tr>\n",
       "      <th>50%</th>\n",
       "      <td>22.283330</td>\n",
       "      <td>82.671007</td>\n",
       "      <td>150.620428</td>\n",
       "      <td>30.000907</td>\n",
       "      <td>59.497375</td>\n",
       "      <td>2530.451944</td>\n",
       "      <td>5.042094</td>\n",
       "      <td>4417.199761</td>\n",
       "      <td>5074.392879</td>\n",
       "      <td>1.000000</td>\n",
       "      <td>0.000000</td>\n",
       "      <td>1.000000</td>\n",
       "    </tr>\n",
       "    <tr>\n",
       "      <th>75%</th>\n",
       "      <td>29.460184</td>\n",
       "      <td>89.937897</td>\n",
       "      <td>223.402156</td>\n",
       "      <td>37.413488</td>\n",
       "      <td>80.038163</td>\n",
       "      <td>3767.229862</td>\n",
       "      <td>7.524692</td>\n",
       "      <td>6616.729066</td>\n",
       "      <td>7474.228752</td>\n",
       "      <td>1.000000</td>\n",
       "      <td>1.000000</td>\n",
       "      <td>1.000000</td>\n",
       "    </tr>\n",
       "    <tr>\n",
       "      <th>max</th>\n",
       "      <td>36.991813</td>\n",
       "      <td>96.997820</td>\n",
       "      <td>299.970293</td>\n",
       "      <td>44.993681</td>\n",
       "      <td>99.997772</td>\n",
       "      <td>4999.698480</td>\n",
       "      <td>9.996899</td>\n",
       "      <td>8846.894877</td>\n",
       "      <td>9999.169530</td>\n",
       "      <td>1.000000</td>\n",
       "      <td>1.000000</td>\n",
       "      <td>1.000000</td>\n",
       "    </tr>\n",
       "  </tbody>\n",
       "</table>\n",
       "</div>"
      ],
      "text/plain": [
       "           Latitude     Longitude  Rainfall (mm)  Temperature (°C)  \\\n",
       "count  10000.000000  10000.000000   10000.000000      10000.000000   \n",
       "mean      22.330627     82.631366     150.015118         29.961401   \n",
       "std        8.341274      8.389542      86.032127          8.669838   \n",
       "min        8.000337     68.004575       0.014437         15.000166   \n",
       "25%       15.143537     75.364428      76.124373         22.405717   \n",
       "50%       22.283330     82.671007     150.620428         30.000907   \n",
       "75%       29.460184     89.937897     223.402156         37.413488   \n",
       "max       36.991813     96.997820     299.970293         44.993681   \n",
       "\n",
       "       Humidity (%)  River Discharge (m³/s)  Water Level (m)  Elevation (m)  \\\n",
       "count  10000.000000            10000.000000     10000.000000   10000.000000   \n",
       "mean      59.749104             2515.722946         5.017881    4417.138177   \n",
       "std       23.142734             1441.706442         2.876579    2530.245421   \n",
       "min       20.001339                0.042161         0.002701       1.150340   \n",
       "25%       39.541778             1284.782376         2.538847    2229.681903   \n",
       "50%       59.497375             2530.451944         5.042094    4417.199761   \n",
       "75%       80.038163             3767.229862         7.524692    6616.729066   \n",
       "max       99.997772             4999.698480         9.996899    8846.894877   \n",
       "\n",
       "       Population Density  Infrastructure  Historical Floods  Flood Occurred  \n",
       "count        10000.000000    10000.000000       10000.000000    10000.000000  \n",
       "mean          5021.468442        0.502000           0.498700        0.505700  \n",
       "std           2882.591520        0.500021           0.500023        0.499993  \n",
       "min              2.289000        0.000000           0.000000        0.000000  \n",
       "25%           2491.766601        0.000000           0.000000        0.000000  \n",
       "50%           5074.392879        1.000000           0.000000        1.000000  \n",
       "75%           7474.228752        1.000000           1.000000        1.000000  \n",
       "max           9999.169530        1.000000           1.000000        1.000000  "
      ]
     },
     "execution_count": 894,
     "metadata": {},
     "output_type": "execute_result"
    }
   ],
   "source": [
    "df.describe()"
   ]
  },
  {
   "cell_type": "code",
   "execution_count": 895,
   "id": "d810becd-0cb8-4e30-8f1d-9497973c9f88",
   "metadata": {},
   "outputs": [
    {
     "data": {
      "text/plain": [
       "array(['Water Body', 'Forest', 'Agricultural', 'Desert', 'Urban'],\n",
       "      dtype=object)"
      ]
     },
     "execution_count": 895,
     "metadata": {},
     "output_type": "execute_result"
    }
   ],
   "source": [
    "df['Land Cover'].unique()"
   ]
  },
  {
   "cell_type": "code",
   "execution_count": 896,
   "id": "31ab137b-3249-4a49-a52f-e3f6ad1520ca",
   "metadata": {},
   "outputs": [
    {
     "data": {
      "text/plain": [
       "array(['Clay', 'Peat', 'Loam', 'Sandy', 'Silt'], dtype=object)"
      ]
     },
     "execution_count": 896,
     "metadata": {},
     "output_type": "execute_result"
    }
   ],
   "source": [
    "df['Soil Type'].unique()"
   ]
  },
  {
   "cell_type": "code",
   "execution_count": 1074,
   "id": "10239897-d2ac-4572-90be-070a057ae277",
   "metadata": {},
   "outputs": [
    {
     "data": {
      "text/plain": [
       "Text(0.5, 1.0, 'Correlation Heatmap')"
      ]
     },
     "execution_count": 1074,
     "metadata": {},
     "output_type": "execute_result"
    },
    {
     "data": {
      "image/png": "[encoded data removed]",
      "text/plain": [
       "<Figure size 1000x700 with 2 Axes>"
      ]
     },
     "metadata": {},
     "output_type": "display_data"
    }
   ],
   "source": [
    "%matplotlib inline\n",
    "\n",
    "corr = df[['Rainfall (mm)','Temperature (°C)','Humidity (%)','River Discharge (m³/s)','Water Level (m)','Elevation (m)','Flood Occurred']].corr()\n",
    "\n",
    "#Heatmap\n",
    "plt.figure(figsize=(10,7))\n",
    "sns.heatmap(corr,annot=True)\n",
    "plt.title('Correlation Heatmap')"
   ]
  },
  {
   "cell_type": "code",
   "execution_count": 898,
   "id": "54d9b32b-0889-4e7b-8507-ba664eebe4cc",
   "metadata": {},
   "outputs": [],
   "source": [
    "\n",
    "# DATA PREPROCESSING\n"
   ]
  },
  {
   "cell_type": "code",
   "execution_count": 899,
   "id": "c429140a-544f-44c0-9bc5-69f4e7a96ef5",
   "metadata": {},
   "outputs": [
    {
     "data": {
      "text/html": [
       "<div>\n",
       "<style scoped>\n",
       "    .dataframe tbody tr th:only-of-type {\n",
       "        vertical-align: middle;\n",
       "    }\n",
       "\n",
       "    .dataframe tbody tr th {\n",
       "        vertical-align: top;\n",
       "    }\n",
       "\n",
       "    .dataframe thead th {\n",
       "        text-align: right;\n",
       "    }\n",
       "</style>\n",
       "<table border=\"1\" class=\"dataframe\">\n",
       "  <thead>\n",
       "    <tr style=\"text-align: right;\">\n",
       "      <th></th>\n",
       "      <th>Latitude</th>\n",
       "      <th>Longitude</th>\n",
       "      <th>Rainfall (mm)</th>\n",
       "      <th>Temperature (°C)</th>\n",
       "      <th>Humidity (%)</th>\n",
       "      <th>River Discharge (m³/s)</th>\n",
       "      <th>Water Level (m)</th>\n",
       "      <th>Elevation (m)</th>\n",
       "      <th>Land Cover</th>\n",
       "      <th>Soil Type</th>\n",
       "      <th>Population Density</th>\n",
       "      <th>Infrastructure</th>\n",
       "      <th>Historical Floods</th>\n",
       "      <th>Flood Occurred</th>\n",
       "    </tr>\n",
       "  </thead>\n",
       "  <tbody>\n",
       "    <tr>\n",
       "      <th>0</th>\n",
       "      <td>18.861663</td>\n",
       "      <td>78.835584</td>\n",
       "      <td>218.999493</td>\n",
       "      <td>34.144337</td>\n",
       "      <td>43.912963</td>\n",
       "      <td>4236.182888</td>\n",
       "      <td>7.415552</td>\n",
       "      <td>377.465433</td>\n",
       "      <td>4</td>\n",
       "      <td>0</td>\n",
       "      <td>7276.742184</td>\n",
       "      <td>1</td>\n",
       "      <td>0</td>\n",
       "      <td>1</td>\n",
       "    </tr>\n",
       "    <tr>\n",
       "      <th>1</th>\n",
       "      <td>35.570715</td>\n",
       "      <td>77.654451</td>\n",
       "      <td>55.353599</td>\n",
       "      <td>28.778774</td>\n",
       "      <td>27.585422</td>\n",
       "      <td>2472.585219</td>\n",
       "      <td>8.811019</td>\n",
       "      <td>7330.608875</td>\n",
       "      <td>2</td>\n",
       "      <td>2</td>\n",
       "      <td>6897.736956</td>\n",
       "      <td>0</td>\n",
       "      <td>1</td>\n",
       "      <td>0</td>\n",
       "    </tr>\n",
       "    <tr>\n",
       "      <th>2</th>\n",
       "      <td>29.227824</td>\n",
       "      <td>73.108463</td>\n",
       "      <td>103.991908</td>\n",
       "      <td>43.934956</td>\n",
       "      <td>30.108738</td>\n",
       "      <td>977.328053</td>\n",
       "      <td>4.631799</td>\n",
       "      <td>2205.873488</td>\n",
       "      <td>0</td>\n",
       "      <td>1</td>\n",
       "      <td>4361.518494</td>\n",
       "      <td>1</td>\n",
       "      <td>1</td>\n",
       "      <td>1</td>\n",
       "    </tr>\n",
       "    <tr>\n",
       "      <th>3</th>\n",
       "      <td>25.361096</td>\n",
       "      <td>85.610733</td>\n",
       "      <td>198.984191</td>\n",
       "      <td>21.569354</td>\n",
       "      <td>34.453690</td>\n",
       "      <td>3683.208933</td>\n",
       "      <td>2.891787</td>\n",
       "      <td>2512.277800</td>\n",
       "      <td>1</td>\n",
       "      <td>3</td>\n",
       "      <td>6163.069701</td>\n",
       "      <td>1</td>\n",
       "      <td>1</td>\n",
       "      <td>0</td>\n",
       "    </tr>\n",
       "    <tr>\n",
       "      <th>4</th>\n",
       "      <td>12.524541</td>\n",
       "      <td>81.822101</td>\n",
       "      <td>144.626803</td>\n",
       "      <td>32.635692</td>\n",
       "      <td>36.292267</td>\n",
       "      <td>2093.390678</td>\n",
       "      <td>3.188466</td>\n",
       "      <td>2001.818223</td>\n",
       "      <td>0</td>\n",
       "      <td>1</td>\n",
       "      <td>6167.964591</td>\n",
       "      <td>1</td>\n",
       "      <td>0</td>\n",
       "      <td>0</td>\n",
       "    </tr>\n",
       "  </tbody>\n",
       "</table>\n",
       "</div>"
      ],
      "text/plain": [
       "    Latitude  Longitude  Rainfall (mm)  Temperature (°C)  Humidity (%)  \\\n",
       "0  18.861663  78.835584     218.999493         34.144337     43.912963   \n",
       "1  35.570715  77.654451      55.353599         28.778774     27.585422   \n",
       "2  29.227824  73.108463     103.991908         43.934956     30.108738   \n",
       "3  25.361096  85.610733     198.984191         21.569354     34.453690   \n",
       "4  12.524541  81.822101     144.626803         32.635692     36.292267   \n",
       "\n",
       "   River Discharge (m³/s)  Water Level (m)  Elevation (m)  Land Cover  \\\n",
       "0             4236.182888         7.415552     377.465433           4   \n",
       "1             2472.585219         8.811019    7330.608875           2   \n",
       "2              977.328053         4.631799    2205.873488           0   \n",
       "3             3683.208933         2.891787    2512.277800           1   \n",
       "4             2093.390678         3.188466    2001.818223           0   \n",
       "\n",
       "   Soil Type  Population Density  Infrastructure  Historical Floods  \\\n",
       "0          0         7276.742184               1                  0   \n",
       "1          2         6897.736956               0                  1   \n",
       "2          1         4361.518494               1                  1   \n",
       "3          3         6163.069701               1                  1   \n",
       "4          1         6167.964591               1                  0   \n",
       "\n",
       "   Flood Occurred  \n",
       "0               1  \n",
       "1               0  \n",
       "2               1  \n",
       "3               0  \n",
       "4               0  "
      ]
     },
     "execution_count": 899,
     "metadata": {},
     "output_type": "execute_result"
    }
   ],
   "source": [
    "#converting categorical data to numerical form\n",
    "le=LabelEncoder()\n",
    "df['Land Cover']=le.fit_transform(df['Land Cover'])\n",
    "df['Soil Type']=le.fit_transform(df['Soil Type'])\n",
    "df.head()"
   ]
  },
  {
   "cell_type": "code",
   "execution_count": 900,
   "id": "b7a4e954-a158-490c-8dc8-2ccfb12f83d1",
   "metadata": {},
   "outputs": [
    {
     "data": {
      "text/html": [
       "<div>\n",
       "<style scoped>\n",
       "    .dataframe tbody tr th:only-of-type {\n",
       "        vertical-align: middle;\n",
       "    }\n",
       "\n",
       "    .dataframe tbody tr th {\n",
       "        vertical-align: top;\n",
       "    }\n",
       "\n",
       "    .dataframe thead th {\n",
       "        text-align: right;\n",
       "    }\n",
       "</style>\n",
       "<table border=\"1\" class=\"dataframe\">\n",
       "  <thead>\n",
       "    <tr style=\"text-align: right;\">\n",
       "      <th></th>\n",
       "      <th>Latitude</th>\n",
       "      <th>Longitude</th>\n",
       "      <th>Rainfall (mm)</th>\n",
       "      <th>Temperature (°C)</th>\n",
       "      <th>Humidity (%)</th>\n",
       "      <th>River Discharge (m³/s)</th>\n",
       "      <th>Water Level (m)</th>\n",
       "      <th>Elevation (m)</th>\n",
       "      <th>Land Cover</th>\n",
       "      <th>Soil Type</th>\n",
       "      <th>Historical Floods</th>\n",
       "    </tr>\n",
       "  </thead>\n",
       "  <tbody>\n",
       "    <tr>\n",
       "      <th>0</th>\n",
       "      <td>18.861663</td>\n",
       "      <td>78.835584</td>\n",
       "      <td>218.999493</td>\n",
       "      <td>34.144337</td>\n",
       "      <td>43.912963</td>\n",
       "      <td>4236.182888</td>\n",
       "      <td>7.415552</td>\n",
       "      <td>377.465433</td>\n",
       "      <td>4</td>\n",
       "      <td>0</td>\n",
       "      <td>0</td>\n",
       "    </tr>\n",
       "    <tr>\n",
       "      <th>1</th>\n",
       "      <td>35.570715</td>\n",
       "      <td>77.654451</td>\n",
       "      <td>55.353599</td>\n",
       "      <td>28.778774</td>\n",
       "      <td>27.585422</td>\n",
       "      <td>2472.585219</td>\n",
       "      <td>8.811019</td>\n",
       "      <td>7330.608875</td>\n",
       "      <td>2</td>\n",
       "      <td>2</td>\n",
       "      <td>1</td>\n",
       "    </tr>\n",
       "    <tr>\n",
       "      <th>2</th>\n",
       "      <td>29.227824</td>\n",
       "      <td>73.108463</td>\n",
       "      <td>103.991908</td>\n",
       "      <td>43.934956</td>\n",
       "      <td>30.108738</td>\n",
       "      <td>977.328053</td>\n",
       "      <td>4.631799</td>\n",
       "      <td>2205.873488</td>\n",
       "      <td>0</td>\n",
       "      <td>1</td>\n",
       "      <td>1</td>\n",
       "    </tr>\n",
       "    <tr>\n",
       "      <th>3</th>\n",
       "      <td>25.361096</td>\n",
       "      <td>85.610733</td>\n",
       "      <td>198.984191</td>\n",
       "      <td>21.569354</td>\n",
       "      <td>34.453690</td>\n",
       "      <td>3683.208933</td>\n",
       "      <td>2.891787</td>\n",
       "      <td>2512.277800</td>\n",
       "      <td>1</td>\n",
       "      <td>3</td>\n",
       "      <td>1</td>\n",
       "    </tr>\n",
       "    <tr>\n",
       "      <th>4</th>\n",
       "      <td>12.524541</td>\n",
       "      <td>81.822101</td>\n",
       "      <td>144.626803</td>\n",
       "      <td>32.635692</td>\n",
       "      <td>36.292267</td>\n",
       "      <td>2093.390678</td>\n",
       "      <td>3.188466</td>\n",
       "      <td>2001.818223</td>\n",
       "      <td>0</td>\n",
       "      <td>1</td>\n",
       "      <td>0</td>\n",
       "    </tr>\n",
       "  </tbody>\n",
       "</table>\n",
       "</div>"
      ],
      "text/plain": [
       "    Latitude  Longitude  Rainfall (mm)  Temperature (°C)  Humidity (%)  \\\n",
       "0  18.861663  78.835584     218.999493         34.144337     43.912963   \n",
       "1  35.570715  77.654451      55.353599         28.778774     27.585422   \n",
       "2  29.227824  73.108463     103.991908         43.934956     30.108738   \n",
       "3  25.361096  85.610733     198.984191         21.569354     34.453690   \n",
       "4  12.524541  81.822101     144.626803         32.635692     36.292267   \n",
       "\n",
       "   River Discharge (m³/s)  Water Level (m)  Elevation (m)  Land Cover  \\\n",
       "0             4236.182888         7.415552     377.465433           4   \n",
       "1             2472.585219         8.811019    7330.608875           2   \n",
       "2              977.328053         4.631799    2205.873488           0   \n",
       "3             3683.208933         2.891787    2512.277800           1   \n",
       "4             2093.390678         3.188466    2001.818223           0   \n",
       "\n",
       "   Soil Type  Historical Floods  \n",
       "0          0                  0  \n",
       "1          2                  1  \n",
       "2          1                  1  \n",
       "3          3                  1  \n",
       "4          1                  0  "
      ]
     },
     "execution_count": 900,
     "metadata": {},
     "output_type": "execute_result"
    }
   ],
   "source": [
    "#Inputs\n",
    "X=df.drop(['Population Density','Infrastructure','Flood Occurred'],axis='columns')\n",
    "X.head()"
   ]
  },
  {
   "cell_type": "code",
   "execution_count": 901,
   "id": "46c0b4f9-72d1-4e50-80d9-83453c12ff36",
   "metadata": {},
   "outputs": [
    {
     "data": {
      "text/plain": [
       "0    1\n",
       "1    0\n",
       "2    1\n",
       "3    0\n",
       "4    0\n",
       "Name: Flood Occurred, dtype: int64"
      ]
     },
     "execution_count": 901,
     "metadata": {},
     "output_type": "execute_result"
    }
   ],
   "source": [
    "#Target\n",
    "y=df['Flood Occurred']\n",
    "y.head()"
   ]
  },
  {
   "cell_type": "code",
   "execution_count": 902,
   "id": "47997b98-d5c5-4cc2-b022-d7fe4029e94f",
   "metadata": {},
   "outputs": [],
   "source": [
    "#Standardizing input\n",
    "scaler=StandardScaler()\n",
    "X=scaler.fit_transform(X)"
   ]
  },
  {
   "cell_type": "code",
   "execution_count": 903,
   "id": "2bd27ece-6058-4a39-8521-2e495c240e51",
   "metadata": {},
   "outputs": [
    {
     "data": {
      "text/html": [
       "<div>\n",
       "<style scoped>\n",
       "    .dataframe tbody tr th:only-of-type {\n",
       "        vertical-align: middle;\n",
       "    }\n",
       "\n",
       "    .dataframe tbody tr th {\n",
       "        vertical-align: top;\n",
       "    }\n",
       "\n",
       "    .dataframe thead th {\n",
       "        text-align: right;\n",
       "    }\n",
       "</style>\n",
       "<table border=\"1\" class=\"dataframe\">\n",
       "  <thead>\n",
       "    <tr style=\"text-align: right;\">\n",
       "      <th></th>\n",
       "      <th>0</th>\n",
       "      <th>1</th>\n",
       "      <th>2</th>\n",
       "      <th>3</th>\n",
       "      <th>4</th>\n",
       "      <th>5</th>\n",
       "      <th>6</th>\n",
       "      <th>7</th>\n",
       "      <th>8</th>\n",
       "      <th>9</th>\n",
       "      <th>10</th>\n",
       "    </tr>\n",
       "  </thead>\n",
       "  <tbody>\n",
       "    <tr>\n",
       "      <th>0</th>\n",
       "      <td>1.589356</td>\n",
       "      <td>-0.186890</td>\n",
       "      <td>-0.588685</td>\n",
       "      <td>1.311656</td>\n",
       "      <td>0.981932</td>\n",
       "      <td>2.048965</td>\n",
       "      <td>0.024796</td>\n",
       "      <td>-0.252468</td>\n",
       "      <td>-1.123994</td>\n",
       "      <td>0.331119</td>\n",
       "      <td>0.404823</td>\n",
       "    </tr>\n",
       "    <tr>\n",
       "      <th>1</th>\n",
       "      <td>-0.439960</td>\n",
       "      <td>-1.602114</td>\n",
       "      <td>0.721233</td>\n",
       "      <td>-0.341465</td>\n",
       "      <td>-0.301472</td>\n",
       "      <td>-0.060482</td>\n",
       "      <td>1.497912</td>\n",
       "      <td>-1.212020</td>\n",
       "      <td>0.851547</td>\n",
       "      <td>1.300962</td>\n",
       "      <td>-0.694228</td>\n",
       "    </tr>\n",
       "    <tr>\n",
       "      <th>2</th>\n",
       "      <td>0.177809</td>\n",
       "      <td>0.026416</td>\n",
       "      <td>-0.825882</td>\n",
       "      <td>-1.355112</td>\n",
       "      <td>-0.599016</td>\n",
       "      <td>-0.227865</td>\n",
       "      <td>2.318274</td>\n",
       "      <td>0.418863</td>\n",
       "      <td>-1.176140</td>\n",
       "      <td>1.325423</td>\n",
       "      <td>-0.533069</td>\n",
       "    </tr>\n",
       "    <tr>\n",
       "      <th>3</th>\n",
       "      <td>-0.956469</td>\n",
       "      <td>1.125673</td>\n",
       "      <td>0.568025</td>\n",
       "      <td>0.571912</td>\n",
       "      <td>-1.012549</td>\n",
       "      <td>0.168195</td>\n",
       "      <td>0.931155</td>\n",
       "      <td>-1.048338</td>\n",
       "      <td>-0.563342</td>\n",
       "      <td>-0.393717</td>\n",
       "      <td>0.394073</td>\n",
       "    </tr>\n",
       "    <tr>\n",
       "      <th>4</th>\n",
       "      <td>0.467742</td>\n",
       "      <td>1.267936</td>\n",
       "      <td>-0.442586</td>\n",
       "      <td>0.975890</td>\n",
       "      <td>0.075629</td>\n",
       "      <td>-0.421884</td>\n",
       "      <td>1.020312</td>\n",
       "      <td>1.533268</td>\n",
       "      <td>-0.753534</td>\n",
       "      <td>0.527875</td>\n",
       "      <td>0.174106</td>\n",
       "    </tr>\n",
       "  </tbody>\n",
       "</table>\n",
       "</div>"
      ],
      "text/plain": [
       "         0         1         2         3         4         5         6   \\\n",
       "0  1.589356 -0.186890 -0.588685  1.311656  0.981932  2.048965  0.024796   \n",
       "1 -0.439960 -1.602114  0.721233 -0.341465 -0.301472 -0.060482  1.497912   \n",
       "2  0.177809  0.026416 -0.825882 -1.355112 -0.599016 -0.227865  2.318274   \n",
       "3 -0.956469  1.125673  0.568025  0.571912 -1.012549  0.168195  0.931155   \n",
       "4  0.467742  1.267936 -0.442586  0.975890  0.075629 -0.421884  1.020312   \n",
       "\n",
       "         7         8         9         10  \n",
       "0 -0.252468 -1.123994  0.331119  0.404823  \n",
       "1 -1.212020  0.851547  1.300962 -0.694228  \n",
       "2  0.418863 -1.176140  1.325423 -0.533069  \n",
       "3 -1.048338 -0.563342 -0.393717  0.394073  \n",
       "4  1.533268 -0.753534  0.527875  0.174106  "
      ]
     },
     "execution_count": 903,
     "metadata": {},
     "output_type": "execute_result"
    }
   ],
   "source": [
    "#Applying PCA\n",
    "pca=PCA(0.95)\n",
    "X=pca.fit_transform(X)\n",
    "\n",
    "#pca gives numpy array so converting it back to df\n",
    "X=pd.DataFrame(X)\n",
    "X.head()"
   ]
  },
  {
   "cell_type": "code",
   "execution_count": 904,
   "id": "57374b7d-9006-4a66-932f-f20295db2653",
   "metadata": {},
   "outputs": [],
   "source": [
    "#splitting data\n",
    "X_train,X_test,y_train,y_test=train_test_split(X,y,test_size=0.2,random_state=1)"
   ]
  },
  {
   "cell_type": "code",
   "execution_count": 905,
   "id": "ac5b1104-1831-4678-a829-6183c82a08b6",
   "metadata": {},
   "outputs": [
    {
     "data": {
      "text/html": [
       "<div>\n",
       "<style scoped>\n",
       "    .dataframe tbody tr th:only-of-type {\n",
       "        vertical-align: middle;\n",
       "    }\n",
       "\n",
       "    .dataframe tbody tr th {\n",
       "        vertical-align: top;\n",
       "    }\n",
       "\n",
       "    .dataframe thead th {\n",
       "        text-align: right;\n",
       "    }\n",
       "</style>\n",
       "<table border=\"1\" class=\"dataframe\">\n",
       "  <thead>\n",
       "    <tr style=\"text-align: right;\">\n",
       "      <th></th>\n",
       "      <th>0</th>\n",
       "      <th>1</th>\n",
       "      <th>2</th>\n",
       "      <th>3</th>\n",
       "      <th>4</th>\n",
       "      <th>5</th>\n",
       "      <th>6</th>\n",
       "      <th>7</th>\n",
       "      <th>8</th>\n",
       "      <th>9</th>\n",
       "      <th>10</th>\n",
       "    </tr>\n",
       "  </thead>\n",
       "  <tbody>\n",
       "    <tr>\n",
       "      <th>2694</th>\n",
       "      <td>-2.319335</td>\n",
       "      <td>-0.418694</td>\n",
       "      <td>0.223093</td>\n",
       "      <td>-0.265280</td>\n",
       "      <td>-0.725396</td>\n",
       "      <td>-0.230952</td>\n",
       "      <td>1.267412</td>\n",
       "      <td>-0.700947</td>\n",
       "      <td>-0.850189</td>\n",
       "      <td>-0.895150</td>\n",
       "      <td>-0.756914</td>\n",
       "    </tr>\n",
       "    <tr>\n",
       "      <th>5140</th>\n",
       "      <td>1.097999</td>\n",
       "      <td>0.322072</td>\n",
       "      <td>1.628999</td>\n",
       "      <td>1.716536</td>\n",
       "      <td>0.356192</td>\n",
       "      <td>-0.216736</td>\n",
       "      <td>1.172490</td>\n",
       "      <td>-0.782182</td>\n",
       "      <td>0.024196</td>\n",
       "      <td>-0.367435</td>\n",
       "      <td>1.498533</td>\n",
       "    </tr>\n",
       "    <tr>\n",
       "      <th>2568</th>\n",
       "      <td>-0.419725</td>\n",
       "      <td>0.273150</td>\n",
       "      <td>1.709265</td>\n",
       "      <td>-0.190300</td>\n",
       "      <td>-0.331061</td>\n",
       "      <td>-0.368201</td>\n",
       "      <td>1.099488</td>\n",
       "      <td>-1.552048</td>\n",
       "      <td>0.341298</td>\n",
       "      <td>-0.087922</td>\n",
       "      <td>1.327944</td>\n",
       "    </tr>\n",
       "    <tr>\n",
       "      <th>3671</th>\n",
       "      <td>-0.016915</td>\n",
       "      <td>0.157242</td>\n",
       "      <td>-1.595414</td>\n",
       "      <td>1.184606</td>\n",
       "      <td>-1.053471</td>\n",
       "      <td>0.085217</td>\n",
       "      <td>-0.402640</td>\n",
       "      <td>-1.219670</td>\n",
       "      <td>-0.756382</td>\n",
       "      <td>2.183935</td>\n",
       "      <td>-0.425466</td>\n",
       "    </tr>\n",
       "    <tr>\n",
       "      <th>7427</th>\n",
       "      <td>-0.010913</td>\n",
       "      <td>1.157774</td>\n",
       "      <td>-1.022859</td>\n",
       "      <td>0.013411</td>\n",
       "      <td>0.574783</td>\n",
       "      <td>1.418306</td>\n",
       "      <td>-0.280430</td>\n",
       "      <td>1.122247</td>\n",
       "      <td>1.946886</td>\n",
       "      <td>-0.040956</td>\n",
       "      <td>1.257180</td>\n",
       "    </tr>\n",
       "  </tbody>\n",
       "</table>\n",
       "</div>"
      ],
      "text/plain": [
       "            0         1         2         3         4         5         6   \\\n",
       "2694 -2.319335 -0.418694  0.223093 -0.265280 -0.725396 -0.230952  1.267412   \n",
       "5140  1.097999  0.322072  1.628999  1.716536  0.356192 -0.216736  1.172490   \n",
       "2568 -0.419725  0.273150  1.709265 -0.190300 -0.331061 -0.368201  1.099488   \n",
       "3671 -0.016915  0.157242 -1.595414  1.184606 -1.053471  0.085217 -0.402640   \n",
       "7427 -0.010913  1.157774 -1.022859  0.013411  0.574783  1.418306 -0.280430   \n",
       "\n",
       "            7         8         9         10  \n",
       "2694 -0.700947 -0.850189 -0.895150 -0.756914  \n",
       "5140 -0.782182  0.024196 -0.367435  1.498533  \n",
       "2568 -1.552048  0.341298 -0.087922  1.327944  \n",
       "3671 -1.219670 -0.756382  2.183935 -0.425466  \n",
       "7427  1.122247  1.946886 -0.040956  1.257180  "
      ]
     },
     "execution_count": 905,
     "metadata": {},
     "output_type": "execute_result"
    }
   ],
   "source": [
    "X_train.head()"
   ]
  },
  {
   "cell_type": "code",
   "execution_count": 906,
   "id": "0e21411c-69b6-4403-8ce1-42daa9682ff6",
   "metadata": {},
   "outputs": [
    {
     "data": {
      "text/html": [
       "<div>\n",
       "<style scoped>\n",
       "    .dataframe tbody tr th:only-of-type {\n",
       "        vertical-align: middle;\n",
       "    }\n",
       "\n",
       "    .dataframe tbody tr th {\n",
       "        vertical-align: top;\n",
       "    }\n",
       "\n",
       "    .dataframe thead th {\n",
       "        text-align: right;\n",
       "    }\n",
       "</style>\n",
       "<table border=\"1\" class=\"dataframe\">\n",
       "  <thead>\n",
       "    <tr style=\"text-align: right;\">\n",
       "      <th></th>\n",
       "      <th>0</th>\n",
       "      <th>1</th>\n",
       "      <th>2</th>\n",
       "      <th>3</th>\n",
       "      <th>4</th>\n",
       "      <th>5</th>\n",
       "      <th>6</th>\n",
       "      <th>7</th>\n",
       "      <th>8</th>\n",
       "      <th>9</th>\n",
       "      <th>10</th>\n",
       "    </tr>\n",
       "  </thead>\n",
       "  <tbody>\n",
       "    <tr>\n",
       "      <th>9953</th>\n",
       "      <td>-1.087339</td>\n",
       "      <td>1.259273</td>\n",
       "      <td>-0.100084</td>\n",
       "      <td>0.398023</td>\n",
       "      <td>-1.725232</td>\n",
       "      <td>-0.664148</td>\n",
       "      <td>-0.063329</td>\n",
       "      <td>0.292872</td>\n",
       "      <td>-0.349096</td>\n",
       "      <td>0.219101</td>\n",
       "      <td>-0.792706</td>\n",
       "    </tr>\n",
       "    <tr>\n",
       "      <th>3850</th>\n",
       "      <td>-0.480226</td>\n",
       "      <td>0.842461</td>\n",
       "      <td>-1.133513</td>\n",
       "      <td>-0.947889</td>\n",
       "      <td>-0.571235</td>\n",
       "      <td>0.039826</td>\n",
       "      <td>0.773016</td>\n",
       "      <td>0.507433</td>\n",
       "      <td>0.462828</td>\n",
       "      <td>1.137097</td>\n",
       "      <td>-0.849418</td>\n",
       "    </tr>\n",
       "    <tr>\n",
       "      <th>4962</th>\n",
       "      <td>0.563810</td>\n",
       "      <td>0.940942</td>\n",
       "      <td>0.833041</td>\n",
       "      <td>-0.170332</td>\n",
       "      <td>-0.923346</td>\n",
       "      <td>-0.797905</td>\n",
       "      <td>0.685581</td>\n",
       "      <td>0.819251</td>\n",
       "      <td>-1.466701</td>\n",
       "      <td>0.831617</td>\n",
       "      <td>-1.600394</td>\n",
       "    </tr>\n",
       "    <tr>\n",
       "      <th>3886</th>\n",
       "      <td>-1.129555</td>\n",
       "      <td>0.604753</td>\n",
       "      <td>1.142001</td>\n",
       "      <td>-1.234988</td>\n",
       "      <td>-0.539746</td>\n",
       "      <td>-0.478964</td>\n",
       "      <td>0.600291</td>\n",
       "      <td>-0.694220</td>\n",
       "      <td>1.072857</td>\n",
       "      <td>-1.361019</td>\n",
       "      <td>0.556735</td>\n",
       "    </tr>\n",
       "    <tr>\n",
       "      <th>5437</th>\n",
       "      <td>0.190674</td>\n",
       "      <td>-1.759031</td>\n",
       "      <td>-0.875574</td>\n",
       "      <td>-1.537391</td>\n",
       "      <td>0.193032</td>\n",
       "      <td>-0.361295</td>\n",
       "      <td>-0.420481</td>\n",
       "      <td>-1.873863</td>\n",
       "      <td>1.641317</td>\n",
       "      <td>0.660411</td>\n",
       "      <td>-0.307151</td>\n",
       "    </tr>\n",
       "  </tbody>\n",
       "</table>\n",
       "</div>"
      ],
      "text/plain": [
       "            0         1         2         3         4         5         6   \\\n",
       "9953 -1.087339  1.259273 -0.100084  0.398023 -1.725232 -0.664148 -0.063329   \n",
       "3850 -0.480226  0.842461 -1.133513 -0.947889 -0.571235  0.039826  0.773016   \n",
       "4962  0.563810  0.940942  0.833041 -0.170332 -0.923346 -0.797905  0.685581   \n",
       "3886 -1.129555  0.604753  1.142001 -1.234988 -0.539746 -0.478964  0.600291   \n",
       "5437  0.190674 -1.759031 -0.875574 -1.537391  0.193032 -0.361295 -0.420481   \n",
       "\n",
       "            7         8         9         10  \n",
       "9953  0.292872 -0.349096  0.219101 -0.792706  \n",
       "3850  0.507433  0.462828  1.137097 -0.849418  \n",
       "4962  0.819251 -1.466701  0.831617 -1.600394  \n",
       "3886 -0.694220  1.072857 -1.361019  0.556735  \n",
       "5437 -1.873863  1.641317  0.660411 -0.307151  "
      ]
     },
     "execution_count": 906,
     "metadata": {},
     "output_type": "execute_result"
    }
   ],
   "source": [
    "X_test.head()"
   ]
  },
  {
   "cell_type": "code",
   "execution_count": 907,
   "id": "2c54e1d6-0a3b-4a17-b5ee-d30920b46f6a",
   "metadata": {},
   "outputs": [
    {
     "data": {
      "text/plain": [
       "2694    1\n",
       "5140    1\n",
       "2568    1\n",
       "3671    0\n",
       "7427    0\n",
       "Name: Flood Occurred, dtype: int64"
      ]
     },
     "execution_count": 907,
     "metadata": {},
     "output_type": "execute_result"
    }
   ],
   "source": [
    "y_train.head()"
   ]
  },
  {
   "cell_type": "code",
   "execution_count": 908,
   "id": "3b61fe98-d7af-4838-a2df-fa4fe7228bb1",
   "metadata": {},
   "outputs": [
    {
     "data": {
      "text/plain": [
       "9953    1\n",
       "3850    0\n",
       "4962    1\n",
       "3886    0\n",
       "5437    1\n",
       "Name: Flood Occurred, dtype: int64"
      ]
     },
     "execution_count": 908,
     "metadata": {},
     "output_type": "execute_result"
    }
   ],
   "source": [
    "y_test.head()"
   ]
  },
  {
   "cell_type": "code",
   "execution_count": 909,
   "id": "5951da30-79b1-46bf-8022-44c63506515a",
   "metadata": {},
   "outputs": [],
   "source": [
    "\n",
    "# MODEL SEELCTION\n"
   ]
  },
  {
   "cell_type": "code",
   "execution_count": 910,
   "id": "a153cfbe-c414-4707-b265-4c5de22edc51",
   "metadata": {},
   "outputs": [
    {
     "data": {
      "text/html": [
       "<style>#sk-container-id-143 {color: black;background-color: white;}#sk-container-id-143 pre{padding: 0;}#sk-container-id-143 div.sk-toggleable {background-color: white;}#sk-container-id-143 label.sk-toggleable__label {cursor: pointer;display: block;width: 100%;margin-bottom: 0;padding: 0.3em;box-sizing: border-box;text-align: center;}#sk-container-id-143 label.sk-toggleable__label-arrow:before {content: \"▸\";float: left;margin-right: 0.25em;color: #696969;}#sk-container-id-143 label.sk-toggleable__label-arrow:hover:before {color: black;}#sk-container-id-143 div.sk-estimator:hover label.sk-toggleable__label-arrow:before {color: black;}#sk-container-id-143 div.sk-toggleable__content {max-height: 0;max-width: 0;overflow: hidden;text-align: left;background-color: #f0f8ff;}#sk-container-id-143 div.sk-toggleable__content pre {margin: 0.2em;color: black;border-radius: 0.25em;background-color: #f0f8ff;}#sk-container-id-143 input.sk-toggleable__control:checked~div.sk-toggleable__content {max-height: 200px;max-width: 100%;overflow: auto;}#sk-container-id-143 input.sk-toggleable__control:checked~label.sk-toggleable__label-arrow:before {content: \"▾\";}#sk-container-id-143 div.sk-estimator input.sk-toggleable__control:checked~label.sk-toggleable__label {background-color: #d4ebff;}#sk-container-id-143 div.sk-label input.sk-toggleable__control:checked~label.sk-toggleable__label {background-color: #d4ebff;}#sk-container-id-143 input.sk-hidden--visually {border: 0;clip: rect(1px 1px 1px 1px);clip: rect(1px, 1px, 1px, 1px);height: 1px;margin: -1px;overflow: hidden;padding: 0;position: absolute;width: 1px;}#sk-container-id-143 div.sk-estimator {font-family: monospace;background-color: #f0f8ff;border: 1px dotted black;border-radius: 0.25em;box-sizing: border-box;margin-bottom: 0.5em;}#sk-container-id-143 div.sk-estimator:hover {background-color: #d4ebff;}#sk-container-id-143 div.sk-parallel-item::after {content: \"\";width: 100%;border-bottom: 1px solid gray;flex-grow: 1;}#sk-container-id-143 div.sk-label:hover label.sk-toggleable__label {background-color: #d4ebff;}#sk-container-id-143 div.sk-serial::before {content: \"\";position: absolute;border-left: 1px solid gray;box-sizing: border-box;top: 0;bottom: 0;left: 50%;z-index: 0;}#sk-container-id-143 div.sk-serial {display: flex;flex-direction: column;align-items: center;background-color: white;padding-right: 0.2em;padding-left: 0.2em;position: relative;}#sk-container-id-143 div.sk-item {position: relative;z-index: 1;}#sk-container-id-143 div.sk-parallel {display: flex;align-items: stretch;justify-content: center;background-color: white;position: relative;}#sk-container-id-143 div.sk-item::before, #sk-container-id-143 div.sk-parallel-item::before {content: \"\";position: absolute;border-left: 1px solid gray;box-sizing: border-box;top: 0;bottom: 0;left: 50%;z-index: -1;}#sk-container-id-143 div.sk-parallel-item {display: flex;flex-direction: column;z-index: 1;position: relative;background-color: white;}#sk-container-id-143 div.sk-parallel-item:first-child::after {align-self: flex-end;width: 50%;}#sk-container-id-143 div.sk-parallel-item:last-child::after {align-self: flex-start;width: 50%;}#sk-container-id-143 div.sk-parallel-item:only-child::after {width: 0;}#sk-container-id-143 div.sk-dashed-wrapped {border: 1px dashed gray;margin: 0 0.4em 0.5em 0.4em;box-sizing: border-box;padding-bottom: 0.4em;background-color: white;}#sk-container-id-143 div.sk-label label {font-family: monospace;font-weight: bold;display: inline-block;line-height: 1.2em;}#sk-container-id-143 div.sk-label-container {text-align: center;}#sk-container-id-143 div.sk-container {/* jupyter's `normalize.less` sets `[hidden] { display: none; }` but bootstrap.min.css set `[hidden] { display: none !important; }` so we also need the `!important` here to be able to override the default hidden behavior on the sphinx rendered scikit-learn.org. See: https://github.com/scikit-learn/scikit-learn/issues/21755 */display: inline-block !important;position: relative;}#sk-container-id-143 div.sk-text-repr-fallback {display: none;}</style><div id=\"sk-container-id-143\" class=\"sk-top-container\"><div class=\"sk-text-repr-fallback\"><pre>LogisticRegression(C=1e-06)</pre><b>In a Jupyter environment, please rerun this cell to show the HTML representation or trust the notebook. <br />On GitHub, the HTML representation is unable to render, please try loading this page with nbviewer.org.</b></div><div class=\"sk-container\" hidden><div class=\"sk-item\"><div class=\"sk-estimator sk-toggleable\"><input class=\"sk-toggleable__control sk-hidden--visually\" id=\"sk-estimator-id-143\" type=\"checkbox\" checked><label for=\"sk-estimator-id-143\" class=\"sk-toggleable__label sk-toggleable__label-arrow\">LogisticRegression</label><div class=\"sk-toggleable__content\"><pre>LogisticRegression(C=1e-06)</pre></div></div></div></div></div>"
      ],
      "text/plain": [
       "LogisticRegression(C=1e-06)"
      ]
     },
     "execution_count": 910,
     "metadata": {},
     "output_type": "execute_result"
    }
   ],
   "source": [
    "lr=LogisticRegression(penalty='l2',C=0.000001)\n",
    "lr.fit(X_train,y_train)"
   ]
  },
  {
   "cell_type": "code",
   "execution_count": 911,
   "id": "d52f6946-5919-451f-ac20-c3767544490e",
   "metadata": {},
   "outputs": [
    {
     "data": {
      "text/plain": [
       "0.5275"
      ]
     },
     "execution_count": 911,
     "metadata": {},
     "output_type": "execute_result"
    }
   ],
   "source": [
    "lr.score(X_test,y_test)"
   ]
  },
  {
   "cell_type": "code",
   "execution_count": 912,
   "id": "c4149403-e4bf-4c51-b512-e6bc5cf27e7d",
   "metadata": {},
   "outputs": [
    {
     "data": {
      "text/html": [
       "<style>#sk-container-id-144 {color: black;background-color: white;}#sk-container-id-144 pre{padding: 0;}#sk-container-id-144 div.sk-toggleable {background-color: white;}#sk-container-id-144 label.sk-toggleable__label {cursor: pointer;display: block;width: 100%;margin-bottom: 0;padding: 0.3em;box-sizing: border-box;text-align: center;}#sk-container-id-144 label.sk-toggleable__label-arrow:before {content: \"▸\";float: left;margin-right: 0.25em;color: #696969;}#sk-container-id-144 label.sk-toggleable__label-arrow:hover:before {color: black;}#sk-container-id-144 div.sk-estimator:hover label.sk-toggleable__label-arrow:before {color: black;}#sk-container-id-144 div.sk-toggleable__content {max-height: 0;max-width: 0;overflow: hidden;text-align: left;background-color: #f0f8ff;}#sk-container-id-144 div.sk-toggleable__content pre {margin: 0.2em;color: black;border-radius: 0.25em;background-color: #f0f8ff;}#sk-container-id-144 input.sk-toggleable__control:checked~div.sk-toggleable__content {max-height: 200px;max-width: 100%;overflow: auto;}#sk-container-id-144 input.sk-toggleable__control:checked~label.sk-toggleable__label-arrow:before {content: \"▾\";}#sk-container-id-144 div.sk-estimator input.sk-toggleable__control:checked~label.sk-toggleable__label {background-color: #d4ebff;}#sk-container-id-144 div.sk-label input.sk-toggleable__control:checked~label.sk-toggleable__label {background-color: #d4ebff;}#sk-container-id-144 input.sk-hidden--visually {border: 0;clip: rect(1px 1px 1px 1px);clip: rect(1px, 1px, 1px, 1px);height: 1px;margin: -1px;overflow: hidden;padding: 0;position: absolute;width: 1px;}#sk-container-id-144 div.sk-estimator {font-family: monospace;background-color: #f0f8ff;border: 1px dotted black;border-radius: 0.25em;box-sizing: border-box;margin-bottom: 0.5em;}#sk-container-id-144 div.sk-estimator:hover {background-color: #d4ebff;}#sk-container-id-144 div.sk-parallel-item::after {content: \"\";width: 100%;border-bottom: 1px solid gray;flex-grow: 1;}#sk-container-id-144 div.sk-label:hover label.sk-toggleable__label {background-color: #d4ebff;}#sk-container-id-144 div.sk-serial::before {content: \"\";position: absolute;border-left: 1px solid gray;box-sizing: border-box;top: 0;bottom: 0;left: 50%;z-index: 0;}#sk-container-id-144 div.sk-serial {display: flex;flex-direction: column;align-items: center;background-color: white;padding-right: 0.2em;padding-left: 0.2em;position: relative;}#sk-container-id-144 div.sk-item {position: relative;z-index: 1;}#sk-container-id-144 div.sk-parallel {display: flex;align-items: stretch;justify-content: center;background-color: white;position: relative;}#sk-container-id-144 div.sk-item::before, #sk-container-id-144 div.sk-parallel-item::before {content: \"\";position: absolute;border-left: 1px solid gray;box-sizing: border-box;top: 0;bottom: 0;left: 50%;z-index: -1;}#sk-container-id-144 div.sk-parallel-item {display: flex;flex-direction: column;z-index: 1;position: relative;background-color: white;}#sk-container-id-144 div.sk-parallel-item:first-child::after {align-self: flex-end;width: 50%;}#sk-container-id-144 div.sk-parallel-item:last-child::after {align-self: flex-start;width: 50%;}#sk-container-id-144 div.sk-parallel-item:only-child::after {width: 0;}#sk-container-id-144 div.sk-dashed-wrapped {border: 1px dashed gray;margin: 0 0.4em 0.5em 0.4em;box-sizing: border-box;padding-bottom: 0.4em;background-color: white;}#sk-container-id-144 div.sk-label label {font-family: monospace;font-weight: bold;display: inline-block;line-height: 1.2em;}#sk-container-id-144 div.sk-label-container {text-align: center;}#sk-container-id-144 div.sk-container {/* jupyter's `normalize.less` sets `[hidden] { display: none; }` but bootstrap.min.css set `[hidden] { display: none !important; }` so we also need the `!important` here to be able to override the default hidden behavior on the sphinx rendered scikit-learn.org. See: https://github.com/scikit-learn/scikit-learn/issues/21755 */display: inline-block !important;position: relative;}#sk-container-id-144 div.sk-text-repr-fallback {display: none;}</style><div id=\"sk-container-id-144\" class=\"sk-top-container\"><div class=\"sk-text-repr-fallback\"><pre>RandomForestClassifier(n_estimators=120)</pre><b>In a Jupyter environment, please rerun this cell to show the HTML representation or trust the notebook. <br />On GitHub, the HTML representation is unable to render, please try loading this page with nbviewer.org.</b></div><div class=\"sk-container\" hidden><div class=\"sk-item\"><div class=\"sk-estimator sk-toggleable\"><input class=\"sk-toggleable__control sk-hidden--visually\" id=\"sk-estimator-id-144\" type=\"checkbox\" checked><label for=\"sk-estimator-id-144\" class=\"sk-toggleable__label sk-toggleable__label-arrow\">RandomForestClassifier</label><div class=\"sk-toggleable__content\"><pre>RandomForestClassifier(n_estimators=120)</pre></div></div></div></div></div>"
      ],
      "text/plain": [
       "RandomForestClassifier(n_estimators=120)"
      ]
     },
     "execution_count": 912,
     "metadata": {},
     "output_type": "execute_result"
    }
   ],
   "source": [
    "rfc=RandomForestClassifier(n_estimators=120)\n",
    "rfc.fit(X_train,y_train)"
   ]
  },
  {
   "cell_type": "code",
   "execution_count": 913,
   "id": "534879ed-1044-4354-aad5-6de8908b32e1",
   "metadata": {},
   "outputs": [
    {
     "data": {
      "text/plain": [
       "0.5175"
      ]
     },
     "execution_count": 913,
     "metadata": {},
     "output_type": "execute_result"
    }
   ],
   "source": [
    "rfc.score(X_test,y_test)"
   ]
  },
  {
   "cell_type": "code",
   "execution_count": 914,
   "id": "3398361c-5e1a-4b3a-8bbc-94781b2811b9",
   "metadata": {},
   "outputs": [
    {
     "data": {
      "text/html": [
       "<style>#sk-container-id-145 {color: black;background-color: white;}#sk-container-id-145 pre{padding: 0;}#sk-container-id-145 div.sk-toggleable {background-color: white;}#sk-container-id-145 label.sk-toggleable__label {cursor: pointer;display: block;width: 100%;margin-bottom: 0;padding: 0.3em;box-sizing: border-box;text-align: center;}#sk-container-id-145 label.sk-toggleable__label-arrow:before {content: \"▸\";float: left;margin-right: 0.25em;color: #696969;}#sk-container-id-145 label.sk-toggleable__label-arrow:hover:before {color: black;}#sk-container-id-145 div.sk-estimator:hover label.sk-toggleable__label-arrow:before {color: black;}#sk-container-id-145 div.sk-toggleable__content {max-height: 0;max-width: 0;overflow: hidden;text-align: left;background-color: #f0f8ff;}#sk-container-id-145 div.sk-toggleable__content pre {margin: 0.2em;color: black;border-radius: 0.25em;background-color: #f0f8ff;}#sk-container-id-145 input.sk-toggleable__control:checked~div.sk-toggleable__content {max-height: 200px;max-width: 100%;overflow: auto;}#sk-container-id-145 input.sk-toggleable__control:checked~label.sk-toggleable__label-arrow:before {content: \"▾\";}#sk-container-id-145 div.sk-estimator input.sk-toggleable__control:checked~label.sk-toggleable__label {background-color: #d4ebff;}#sk-container-id-145 div.sk-label input.sk-toggleable__control:checked~label.sk-toggleable__label {background-color: #d4ebff;}#sk-container-id-145 input.sk-hidden--visually {border: 0;clip: rect(1px 1px 1px 1px);clip: rect(1px, 1px, 1px, 1px);height: 1px;margin: -1px;overflow: hidden;padding: 0;position: absolute;width: 1px;}#sk-container-id-145 div.sk-estimator {font-family: monospace;background-color: #f0f8ff;border: 1px dotted black;border-radius: 0.25em;box-sizing: border-box;margin-bottom: 0.5em;}#sk-container-id-145 div.sk-estimator:hover {background-color: #d4ebff;}#sk-container-id-145 div.sk-parallel-item::after {content: \"\";width: 100%;border-bottom: 1px solid gray;flex-grow: 1;}#sk-container-id-145 div.sk-label:hover label.sk-toggleable__label {background-color: #d4ebff;}#sk-container-id-145 div.sk-serial::before {content: \"\";position: absolute;border-left: 1px solid gray;box-sizing: border-box;top: 0;bottom: 0;left: 50%;z-index: 0;}#sk-container-id-145 div.sk-serial {display: flex;flex-direction: column;align-items: center;background-color: white;padding-right: 0.2em;padding-left: 0.2em;position: relative;}#sk-container-id-145 div.sk-item {position: relative;z-index: 1;}#sk-container-id-145 div.sk-parallel {display: flex;align-items: stretch;justify-content: center;background-color: white;position: relative;}#sk-container-id-145 div.sk-item::before, #sk-container-id-145 div.sk-parallel-item::before {content: \"\";position: absolute;border-left: 1px solid gray;box-sizing: border-box;top: 0;bottom: 0;left: 50%;z-index: -1;}#sk-container-id-145 div.sk-parallel-item {display: flex;flex-direction: column;z-index: 1;position: relative;background-color: white;}#sk-container-id-145 div.sk-parallel-item:first-child::after {align-self: flex-end;width: 50%;}#sk-container-id-145 div.sk-parallel-item:last-child::after {align-self: flex-start;width: 50%;}#sk-container-id-145 div.sk-parallel-item:only-child::after {width: 0;}#sk-container-id-145 div.sk-dashed-wrapped {border: 1px dashed gray;margin: 0 0.4em 0.5em 0.4em;box-sizing: border-box;padding-bottom: 0.4em;background-color: white;}#sk-container-id-145 div.sk-label label {font-family: monospace;font-weight: bold;display: inline-block;line-height: 1.2em;}#sk-container-id-145 div.sk-label-container {text-align: center;}#sk-container-id-145 div.sk-container {/* jupyter's `normalize.less` sets `[hidden] { display: none; }` but bootstrap.min.css set `[hidden] { display: none !important; }` so we also need the `!important` here to be able to override the default hidden behavior on the sphinx rendered scikit-learn.org. See: https://github.com/scikit-learn/scikit-learn/issues/21755 */display: inline-block !important;position: relative;}#sk-container-id-145 div.sk-text-repr-fallback {display: none;}</style><div id=\"sk-container-id-145\" class=\"sk-top-container\"><div class=\"sk-text-repr-fallback\"><pre>SVC(C=0.05, kernel=&#x27;linear&#x27;)</pre><b>In a Jupyter environment, please rerun this cell to show the HTML representation or trust the notebook. <br />On GitHub, the HTML representation is unable to render, please try loading this page with nbviewer.org.</b></div><div class=\"sk-container\" hidden><div class=\"sk-item\"><div class=\"sk-estimator sk-toggleable\"><input class=\"sk-toggleable__control sk-hidden--visually\" id=\"sk-estimator-id-145\" type=\"checkbox\" checked><label for=\"sk-estimator-id-145\" class=\"sk-toggleable__label sk-toggleable__label-arrow\">SVC</label><div class=\"sk-toggleable__content\"><pre>SVC(C=0.05, kernel=&#x27;linear&#x27;)</pre></div></div></div></div></div>"
      ],
      "text/plain": [
       "SVC(C=0.05, kernel='linear')"
      ]
     },
     "execution_count": 914,
     "metadata": {},
     "output_type": "execute_result"
    }
   ],
   "source": [
    "svc=SVC(kernel='linear',C=0.05)\n",
    "svc.fit(X_train,y_train)"
   ]
  },
  {
   "cell_type": "code",
   "execution_count": 915,
   "id": "d076441b-e85a-4193-a4f2-9953beb1c9bf",
   "metadata": {},
   "outputs": [
    {
     "data": {
      "text/plain": [
       "0.52"
      ]
     },
     "execution_count": 915,
     "metadata": {},
     "output_type": "execute_result"
    }
   ],
   "source": [
    "svc.score(X_test,y_test)"
   ]
  },
  {
   "cell_type": "code",
   "execution_count": 1050,
   "id": "b283a076-2f6b-487e-86da-a37a7f89c79a",
   "metadata": {},
   "outputs": [
    {
     "data": {
      "text/html": [
       "<style>#sk-container-id-173 {color: black;background-color: white;}#sk-container-id-173 pre{padding: 0;}#sk-container-id-173 div.sk-toggleable {background-color: white;}#sk-container-id-173 label.sk-toggleable__label {cursor: pointer;display: block;width: 100%;margin-bottom: 0;padding: 0.3em;box-sizing: border-box;text-align: center;}#sk-container-id-173 label.sk-toggleable__label-arrow:before {content: \"▸\";float: left;margin-right: 0.25em;color: #696969;}#sk-container-id-173 label.sk-toggleable__label-arrow:hover:before {color: black;}#sk-container-id-173 div.sk-estimator:hover label.sk-toggleable__label-arrow:before {color: black;}#sk-container-id-173 div.sk-toggleable__content {max-height: 0;max-width: 0;overflow: hidden;text-align: left;background-color: #f0f8ff;}#sk-container-id-173 div.sk-toggleable__content pre {margin: 0.2em;color: black;border-radius: 0.25em;background-color: #f0f8ff;}#sk-container-id-173 input.sk-toggleable__control:checked~div.sk-toggleable__content {max-height: 200px;max-width: 100%;overflow: auto;}#sk-container-id-173 input.sk-toggleable__control:checked~label.sk-toggleable__label-arrow:before {content: \"▾\";}#sk-container-id-173 div.sk-estimator input.sk-toggleable__control:checked~label.sk-toggleable__label {background-color: #d4ebff;}#sk-container-id-173 div.sk-label input.sk-toggleable__control:checked~label.sk-toggleable__label {background-color: #d4ebff;}#sk-container-id-173 input.sk-hidden--visually {border: 0;clip: rect(1px 1px 1px 1px);clip: rect(1px, 1px, 1px, 1px);height: 1px;margin: -1px;overflow: hidden;padding: 0;position: absolute;width: 1px;}#sk-container-id-173 div.sk-estimator {font-family: monospace;background-color: #f0f8ff;border: 1px dotted black;border-radius: 0.25em;box-sizing: border-box;margin-bottom: 0.5em;}#sk-container-id-173 div.sk-estimator:hover {background-color: #d4ebff;}#sk-container-id-173 div.sk-parallel-item::after {content: \"\";width: 100%;border-bottom: 1px solid gray;flex-grow: 1;}#sk-container-id-173 div.sk-label:hover label.sk-toggleable__label {background-color: #d4ebff;}#sk-container-id-173 div.sk-serial::before {content: \"\";position: absolute;border-left: 1px solid gray;box-sizing: border-box;top: 0;bottom: 0;left: 50%;z-index: 0;}#sk-container-id-173 div.sk-serial {display: flex;flex-direction: column;align-items: center;background-color: white;padding-right: 0.2em;padding-left: 0.2em;position: relative;}#sk-container-id-173 div.sk-item {position: relative;z-index: 1;}#sk-container-id-173 div.sk-parallel {display: flex;align-items: stretch;justify-content: center;background-color: white;position: relative;}#sk-container-id-173 div.sk-item::before, #sk-container-id-173 div.sk-parallel-item::before {content: \"\";position: absolute;border-left: 1px solid gray;box-sizing: border-box;top: 0;bottom: 0;left: 50%;z-index: -1;}#sk-container-id-173 div.sk-parallel-item {display: flex;flex-direction: column;z-index: 1;position: relative;background-color: white;}#sk-container-id-173 div.sk-parallel-item:first-child::after {align-self: flex-end;width: 50%;}#sk-container-id-173 div.sk-parallel-item:last-child::after {align-self: flex-start;width: 50%;}#sk-container-id-173 div.sk-parallel-item:only-child::after {width: 0;}#sk-container-id-173 div.sk-dashed-wrapped {border: 1px dashed gray;margin: 0 0.4em 0.5em 0.4em;box-sizing: border-box;padding-bottom: 0.4em;background-color: white;}#sk-container-id-173 div.sk-label label {font-family: monospace;font-weight: bold;display: inline-block;line-height: 1.2em;}#sk-container-id-173 div.sk-label-container {text-align: center;}#sk-container-id-173 div.sk-container {/* jupyter's `normalize.less` sets `[hidden] { display: none; }` but bootstrap.min.css set `[hidden] { display: none !important; }` so we also need the `!important` here to be able to override the default hidden behavior on the sphinx rendered scikit-learn.org. See: https://github.com/scikit-learn/scikit-learn/issues/21755 */display: inline-block !important;position: relative;}#sk-container-id-173 div.sk-text-repr-fallback {display: none;}</style><div id=\"sk-container-id-173\" class=\"sk-top-container\"><div class=\"sk-text-repr-fallback\"><pre>GradientBoostingClassifier(learning_rate=10)</pre><b>In a Jupyter environment, please rerun this cell to show the HTML representation or trust the notebook. <br />On GitHub, the HTML representation is unable to render, please try loading this page with nbviewer.org.</b></div><div class=\"sk-container\" hidden><div class=\"sk-item\"><div class=\"sk-estimator sk-toggleable\"><input class=\"sk-toggleable__control sk-hidden--visually\" id=\"sk-estimator-id-173\" type=\"checkbox\" checked><label for=\"sk-estimator-id-173\" class=\"sk-toggleable__label sk-toggleable__label-arrow\">GradientBoostingClassifier</label><div class=\"sk-toggleable__content\"><pre>GradientBoostingClassifier(learning_rate=10)</pre></div></div></div></div></div>"
      ],
      "text/plain": [
       "GradientBoostingClassifier(learning_rate=10)"
      ]
     },
     "execution_count": 1050,
     "metadata": {},
     "output_type": "execute_result"
    }
   ],
   "source": [
    "gbm_clf=GradientBoostingClassifier(learning_rate=10)\n",
    "gbm_clf.fit(X_train,y_train)"
   ]
  },
  {
   "cell_type": "code",
   "execution_count": 1052,
   "id": "b4150754-1ee4-4710-92ae-6a11e0daa62a",
   "metadata": {},
   "outputs": [
    {
     "data": {
      "text/plain": [
       "0.527"
      ]
     },
     "execution_count": 1052,
     "metadata": {},
     "output_type": "execute_result"
    }
   ],
   "source": [
    "gbm_clf.score(X_test,y_test)"
   ]
  },
  {
   "cell_type": "code",
   "execution_count": 1090,
   "id": "5f91d0ae-7c0f-439c-98d9-148e87dfae72",
   "metadata": {},
   "outputs": [
    {
     "data": {
      "text/plain": [
       "Text(70.72222222222221, 0.5, 'Truth')"
      ]
     },
     "execution_count": 1090,
     "metadata": {},
     "output_type": "execute_result"
    },
    {
     "data": {
      "image/png": "[encoded data removed]",
      "text/plain": [
       "<Figure size 800x600 with 2 Axes>"
      ]
     },
     "metadata": {},
     "output_type": "display_data"
    }
   ],
   "source": [
    "#Confusion matrix\n",
    "\n",
    "y_pred=gbm_clf.predict(X_test)\n",
    "cm=confusion_matrix(y_test,y_pred)\n",
    "import seaborn as sns\n",
    "plt.figure(figsize=(8,6))\n",
    "sns.heatmap(cm,annot=True)\n",
    "plt.xlabel('Predicted')\n",
    "plt.ylabel('Truth')"
   ]
  },
  {
   "cell_type": "code",
   "execution_count": null,
   "id": "e1674589-e476-45c2-ad3a-9cd859877b99",
   "metadata": {},
   "outputs": [],
   "source": []
  }
 ],
 "metadata": {
  "kernelspec": {
   "display_name": "Python 3 (ipykernel)",
   "language": "python",
   "name": "python3"
  },
  "language_info": {
   "codemirror_mode": {
    "name": "ipython",
    "version": 3
   },
   "file_extension": ".py",
   "mimetype": "text/x-python",
   "name": "python",
   "nbconvert_exporter": "python",
   "pygments_lexer": "ipython3",
   "version": "3.11.7"
  }
 },
 "nbformat": 4,
 "nbformat_minor": 5
}
